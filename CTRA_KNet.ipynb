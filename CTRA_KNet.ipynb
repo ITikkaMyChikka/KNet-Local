{
 "cells": [
  {
   "cell_type": "code",
   "execution_count": 1,
   "id": "7bd8a0d0-8b0c-45bd-9d7f-e6c5dd6573db",
   "metadata": {},
   "outputs": [
    {
     "name": "stdout",
     "output_type": "stream",
     "text": [
      "Collecting torch\n",
      "  Using cached torch-1.11.0-cp38-none-macosx_10_9_x86_64.whl (129.9 MB)\n",
      "Collecting typing-extensions\n",
      "  Using cached typing_extensions-4.1.1-py3-none-any.whl (26 kB)\n",
      "Installing collected packages: typing-extensions, torch\n",
      "Successfully installed torch-1.11.0 typing-extensions-4.1.1\n",
      "Note: you may need to restart the kernel to use updated packages.\n"
     ]
    }
   ],
   "source": [
    "pip install torch\n"
   ]
  },
  {
   "cell_type": "code",
   "execution_count": 2,
   "id": "0dc7d134-d5ac-41ed-bc64-8004afe23044",
   "metadata": {},
   "outputs": [
    {
     "name": "stdout",
     "output_type": "stream",
     "text": [
      "Collecting torchvision\n",
      "  Using cached torchvision-0.12.0-cp38-cp38-macosx_10_9_x86_64.whl (1.3 MB)\n",
      "Requirement already satisfied: typing-extensions in /Users/sidhu/opt/anaconda3/envs/KALMANNET/lib/python3.8/site-packages (from torchvision) (4.1.1)\n",
      "Requirement already satisfied: numpy in /Users/sidhu/opt/anaconda3/envs/KALMANNET/lib/python3.8/site-packages (from torchvision) (1.22.3)\n",
      "Requirement already satisfied: torch==1.11.0 in /Users/sidhu/opt/anaconda3/envs/KALMANNET/lib/python3.8/site-packages (from torchvision) (1.11.0)\n",
      "Requirement already satisfied: requests in /Users/sidhu/opt/anaconda3/envs/KALMANNET/lib/python3.8/site-packages (from torchvision) (2.27.1)\n",
      "Collecting pillow!=8.3.*,>=5.3.0\n",
      "  Downloading Pillow-9.1.0-cp38-cp38-macosx_10_9_x86_64.whl (3.1 MB)\n",
      "\u001b[K     |████████████████████████████████| 3.1 MB 4.9 MB/s eta 0:00:01\n",
      "\u001b[?25hRequirement already satisfied: idna<4,>=2.5 in /Users/sidhu/opt/anaconda3/envs/KALMANNET/lib/python3.8/site-packages (from requests->torchvision) (3.3)\n",
      "Requirement already satisfied: urllib3<1.27,>=1.21.1 in /Users/sidhu/opt/anaconda3/envs/KALMANNET/lib/python3.8/site-packages (from requests->torchvision) (1.26.9)\n",
      "Requirement already satisfied: charset-normalizer~=2.0.0 in /Users/sidhu/opt/anaconda3/envs/KALMANNET/lib/python3.8/site-packages (from requests->torchvision) (2.0.12)\n",
      "Requirement already satisfied: certifi>=2017.4.17 in /Users/sidhu/opt/anaconda3/envs/KALMANNET/lib/python3.8/site-packages (from requests->torchvision) (2021.10.8)\n",
      "Installing collected packages: pillow, torchvision\n",
      "Successfully installed pillow-9.1.0 torchvision-0.12.0\n",
      "Note: you may need to restart the kernel to use updated packages.\n"
     ]
    }
   ],
   "source": [
    "pip install torchvision"
   ]
  },
  {
   "cell_type": "code",
   "execution_count": 1,
   "id": "22b66fa9-f423-4dbf-8e0b-5802001fcb0e",
   "metadata": {},
   "outputs": [],
   "source": [
    "import numpy as np"
   ]
  },
  {
   "cell_type": "code",
   "execution_count": 2,
   "id": "3a0995c6-5638-4cea-893a-6b1354ece545",
   "metadata": {},
   "outputs": [],
   "source": [
    "import torch"
   ]
  },
  {
   "cell_type": "markdown",
   "id": "7d331a05-88f6-4372-9b29-e0c58a59d4a2",
   "metadata": {},
   "source": [
    "# 1. DATA LOADING"
   ]
  },
  {
   "cell_type": "code",
   "execution_count": null,
   "id": "083ca8c6-2ee7-4461-822c-04c6beb2c0c1",
   "metadata": {},
   "outputs": [],
   "source": []
  }
 ],
 "metadata": {
  "kernelspec": {
   "display_name": "Python 3 (ipykernel)",
   "language": "python",
   "name": "python3"
  },
  "language_info": {
   "codemirror_mode": {
    "name": "ipython",
    "version": 3
   },
   "file_extension": ".py",
   "mimetype": "text/x-python",
   "name": "python",
   "nbconvert_exporter": "python",
   "pygments_lexer": "ipython3",
   "version": "3.8.12"
  }
 },
 "nbformat": 4,
 "nbformat_minor": 5
}
