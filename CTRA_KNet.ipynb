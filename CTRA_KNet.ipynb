{
 "cells": [
  {
   "cell_type": "code",
   "execution_count": 1,
   "id": "22b66fa9-f423-4dbf-8e0b-5802001fcb0e",
   "metadata": {},
   "outputs": [],
   "source": [
    "# Imports\n",
    "import numpy as np\n",
    "import torch\n",
    "import torch.nn as nn\n",
    "import torch.nn.functional as func\n",
    "import matplotlib.pyplot as plt\n",
    "from scipy.interpolate import interp1d\n",
    "import random"
   ]
  },
  {
   "cell_type": "markdown",
   "id": "7d331a05-88f6-4372-9b29-e0c58a59d4a2",
   "metadata": {},
   "source": [
    "# 1. Data Preperation"
   ]
  },
  {
   "cell_type": "markdown",
   "id": "a87044c9-9226-445f-9605-c9b5a1b4e544",
   "metadata": {},
   "source": [
    "## 1.1 Path and File names"
   ]
  },
  {
   "cell_type": "code",
   "execution_count": 2,
   "id": "cf42ea35-4f9b-40ee-80a2-b1072ed9bf31",
   "metadata": {},
   "outputs": [],
   "source": [
    "# Dates and directory\n",
    "date = '2013-04-05'  # TODO: Add other datasets\n",
    "directory = '/Users/sidhu/Documents/Master Thesis/KNet-Local/Data/' + date + '/'\n",
    "\n",
    "# Ground Truth\n",
    "GT_f = 'groundtruth.csv'\n",
    "\n",
    "# GPS\n",
    "GPS_f = 'gps.csv'\n",
    "GPS_RTK_f = 'gps_rtk.csv'\n",
    "\n",
    "# IMU\n",
    "IMU_f = 'ms25.csv'\n",
    "IMU_EULER_f = 'ms25_euler.csv'\n",
    "\n",
    "# Odometry\n",
    "od_1_f = 'odometry_mu.csv'\n",
    "od_2_f = 'odometry_mu_100hz.csv'\n",
    "od_3_f = 'odometry_cov.csv'\n",
    "od_4_f = 'odometry_cov_100hz.csv'\n",
    "\n",
    "# Wheels\n",
    "wheels_f = 'wheels.csv'\n",
    "\n",
    "# KVH\n",
    "kvh_f = 'kvh.csv'"
   ]
  },
  {
   "cell_type": "markdown",
   "id": "9a679829-abc8-4c81-9c7c-1a547b97631a",
   "metadata": {},
   "source": [
    "## 1.2 Data Loading"
   ]
  },
  {
   "cell_type": "markdown",
   "id": "02726f24-4886-425d-929f-579a7842e96c",
   "metadata": {},
   "source": [
    "### 1.2.1 Ground Truth"
   ]
  },
  {
   "cell_type": "code",
   "execution_count": 3,
   "id": "6b25ed81-ac1a-40a3-8a05-d94cdb1005bc",
   "metadata": {},
   "outputs": [],
   "source": [
    "\"\"\"\n",
    "GROUNDTRUTH CSV File Format:\n",
    "                                Field | Description                               | Unit\n",
    "                                0     | UTIME of the measurements                 | microsecond\n",
    "                                1-3   | x, y, z                                   | m\n",
    "                                4-6   | roll, pitch, heading                      | rad\n",
    "\"\"\"\n",
    "\n",
    "gt      = np.loadtxt(directory + GT_f, delimiter = \",\")\n",
    "# NED (North, East Down)\n",
    "gtTime  = gt[:, 0] * 1e-6\n",
    "x       = gt[:, 1]\n",
    "y       = gt[:, 2]\n",
    "z       = gt[:, 3]\n",
    "roll    = gt[:, 4]\n",
    "pitch   = gt[:, 5]\n",
    "heading = gt[:, 6]"
   ]
  },
  {
   "cell_type": "markdown",
   "id": "b5c156bd-72d6-4920-ae74-24be725fb6fe",
   "metadata": {},
   "source": [
    "### 1.2.2 GPS"
   ]
  },
  {
   "cell_type": "code",
   "execution_count": 4,
   "id": "3e916c55-bfc3-4a59-9934-693dc2a508ae",
   "metadata": {},
   "outputs": [],
   "source": [
    "\"\"\" \n",
    "GPS CSV File Format:\n",
    "                                Field | Description                               | Unit\n",
    "                                0     | UTIME of the GPS fix                      | microsecond\n",
    "                                1     | Fix mode                                  |\n",
    "                                2     | Number of satellites used in the fix      |\n",
    "                                3     | Latitude                                  | rad\n",
    "                                4     | Longitude                                 | rad\n",
    "                                5     | Altitude                                  | m\n",
    "                                6     | Track                                     | m\n",
    "                                7     | Speed                                     | m/s\n",
    "\"\"\"\n",
    "gps     = np.loadtxt(directory + GPS_f, delimiter = \",\")\n",
    "gpsTime = gps[:, 0] * 1e-6\n",
    "lat     = gps[:, 3]\n",
    "lng     = gps[:, 4]\n",
    "alt     = gps[:, 5]\n",
    "\n",
    "gpsRTK     = np.loadtxt(directory + GPS_RTK_f, delimiter = \",\")\n",
    "gpsRTKTime = gpsRTK[:, 0] * 1e-6\n",
    "latRTK     = gpsRTK[:, 3]\n",
    "lngRTK     = gpsRTK[:, 4]\n",
    "altRTK     = gpsRTK[:, 5]"
   ]
  },
  {
   "cell_type": "markdown",
   "id": "385893a5-fe66-4ce3-bd9c-943c8365ccb1",
   "metadata": {},
   "source": [
    "### 1.2.3 IMU"
   ]
  },
  {
   "cell_type": "code",
   "execution_count": 5,
   "id": "befc62f3-9758-4dc3-a666-afb82165e50a",
   "metadata": {},
   "outputs": [],
   "source": [
    "\"\"\"\n",
    "IMU CSV File Format:\n",
    "                                Field | Description                               | Unit\n",
    "                                0     | UTIME of the measurements                 | microsecond\n",
    "                                1-3   | 3-DOF magnetic field strength vector      | Gauss\n",
    "                                4-6   | 3-DOF acceleration vector                 | m/s2\n",
    "                                7-9   | 3-DOF angular rate (roll, pitch, heading) | rad/s\n",
    "\"\"\"\n",
    "imu     = np.loadtxt(directory + IMU_f, delimiter = \",\")\n",
    "imuTime = imu[:, 0] * 1e-6\n",
    "# magX    = imu[:, 1]\n",
    "# magY    = imu[:, 2]\n",
    "# magZ    = imu[:, 3]\n",
    "accelX  = imu[:, 4]\n",
    "accelY  = imu[:, 5]\n",
    "accelZ  = imu[:, 6]\n",
    "gyroX   = imu[:, 7]\n",
    "gyroY   = imu[:, 8]\n",
    "gyroZ   = imu[:, 9]"
   ]
  },
  {
   "cell_type": "markdown",
   "id": "1a478883-09af-42ca-b5fb-327e23f46730",
   "metadata": {},
   "source": [
    "## 1.3 Data Preprocessing\n",
    "\n",
    "Idea: Interpolate Data so we get periodic measurements"
   ]
  },
  {
   "cell_type": "code",
   "execution_count": 6,
   "id": "1232f5dd-8a19-4205-9f25-26a3a67e0051",
   "metadata": {},
   "outputs": [
    {
     "data": {
      "text/plain": [
       "[<matplotlib.lines.Line2D at 0x7fca03d13370>]"
      ]
     },
     "execution_count": 6,
     "metadata": {},
     "output_type": "execute_result"
    },
    {
     "data": {
      "image/png": "[encoded data removed]",
      "text/plain": [
       "<Figure size 432x288 with 1 Axes>"
      ]
     },
     "metadata": {
      "needs_background": "light"
     },
     "output_type": "display_data"
    }
   ],
   "source": [
    "# First we display the ground truth\n",
    "plt.plot(x, y)"
   ]
  },
  {
   "cell_type": "markdown",
   "id": "914e8a34-f1de-4456-aca7-4eb886a7a910",
   "metadata": {},
   "source": [
    "### 1.3.1 GPS Data\n",
    "\n",
    "1. Transform to x and y\n",
    "2. First remove outliers\n",
    "3. Interpolate data\n",
    "4. Get data at periodic time stamps"
   ]
  },
  {
   "cell_type": "code",
   "execution_count": 7,
   "id": "071cc745-f194-4b80-8d0f-ae74151f1557",
   "metadata": {},
   "outputs": [
    {
     "data": {
      "text/plain": [
       "[<matplotlib.lines.Line2D at 0x7fca03f1c970>]"
      ]
     },
     "execution_count": 7,
     "metadata": {},
     "output_type": "execute_result"
    },
    {
     "data": {
      "image/png": "[encoded data removed]",
      "text/plain": [
       "<Figure size 432x288 with 1 Axes>"
      ]
     },
     "metadata": {
      "needs_background": "light"
     },
     "output_type": "display_data"
    }
   ],
   "source": [
    "# STEP 1 \n",
    "# Transform GPS lat and lan into x and y\n",
    "\n",
    "lat0 = lat[0]\n",
    "lng0 = lng[0]\n",
    "\n",
    "dLat = lat - lat0\n",
    "dLng = lng - lng0\n",
    "\n",
    "r = 6400000 # approx. radius of earth (m)\n",
    "x_gps = r * np.cos(lat0) * np.sin(dLng)\n",
    "y_gps = r * np.sin(dLat)\n",
    "\n",
    "plt.plot(x_gps, y_gps)"
   ]
  },
  {
   "cell_type": "code",
   "execution_count": 8,
   "id": "b6e71fc2-52ea-445a-8604-79c34d0ae28f",
   "metadata": {},
   "outputs": [
    {
     "name": "stdout",
     "output_type": "stream",
     "text": [
      "33724 34720 33724 34720\n"
     ]
    },
    {
     "data": {
      "image/png": "[encoded data removed]",
      "text/plain": [
       "<Figure size 432x288 with 1 Axes>"
      ]
     },
     "metadata": {
      "needs_background": "light"
     },
     "output_type": "display_data"
    }
   ],
   "source": [
    "# STEP 2\n",
    "# Remove outliers\n",
    "\n",
    "r1 = np.where(x_gps > (np.mean(x_gps) + 2*np.std(x_gps)))\n",
    "r2 = np.where(x_gps < (np.mean(x_gps) - 2*np.std(x_gps)))\n",
    "r = np.concatenate((r1[0],r2[0]))\n",
    "\n",
    "xg = np.delete(x_gps,r)\n",
    "yg = np.delete(y_gps,r)\n",
    "tg = np.delete(gpsTime,r)\n",
    "\n",
    "r1 = np.where(yg > (np.mean(yg) + 2*np.std(yg)))\n",
    "r2 = np.where(yg < (np.mean(yg) - 2*np.std(yg)))\n",
    "r = np.concatenate((r1[0],r2[0]))\n",
    "\n",
    "x_gp = np.delete(xg,r)\n",
    "y_gp = np.delete(yg,r)\n",
    "t_gp = np.delete(tg,r)\n",
    "\n",
    "plt.plot(x_gp, y_gp)\n",
    "print(t_gp.size, gpsTime.size, x_gp.size, x_gps.size)"
   ]
  },
  {
   "cell_type": "code",
   "execution_count": 9,
   "id": "2c021043-e553-4c54-92d5-cd20700baf71",
   "metadata": {},
   "outputs": [
    {
     "data": {
      "text/plain": [
       "[<matplotlib.lines.Line2D at 0x7fc9c00a5ee0>]"
      ]
     },
     "execution_count": 9,
     "metadata": {},
     "output_type": "execute_result"
    },
    {
     "data": {
      "image/png": "[encoded data removed]",
      "text/plain": [
       "<Figure size 432x288 with 1 Axes>"
      ]
     },
     "metadata": {
      "needs_background": "light"
     },
     "output_type": "display_data"
    }
   ],
   "source": [
    "# STEP 3\n",
    "# Interpolate the data\n",
    "\n",
    "# Fit the function\n",
    "f_x_gp = interp1d(t_gp, x_gp, kind='cubic')\n",
    "f_y_gp = interp1d(t_gp, y_gp, kind='cubic')\n",
    "\n",
    "\n",
    "# STEP 4\n",
    "# Generate periodic time stamps\n",
    "delta_t = 0.05\n",
    "\n",
    "\n",
    "# We need to figure out which area we can extract from the data where we have imu, gps and gt data available\n",
    "l_time = max([imuTime[0], t_gp[0], gtTime[0]])\n",
    "h_time = min([imuTime[-1], t_gp[-1], gtTime[-1]])\n",
    "\n",
    "ts = np.arange(start=np.ceil(l_time), stop=np.floor(h_time), step=delta_t)  # timestamps\n",
    "\n",
    "# Create interpolated data\n",
    "x_gp_inter = f_x_gp(ts)\n",
    "y_gp_inter = f_y_gp(ts)\n",
    "\n",
    "# Compare the 2 interpolations\n",
    "# x axis\n",
    "plt.plot(ts, x_gp_inter)\n",
    "plt.plot(t_gp, x_gp)\n",
    "\n",
    "# y axis\n",
    "#plt.plot(t_gp_new, y_gp_inter)\n",
    "#plt.plot(t_gp, y_gp)"
   ]
  },
  {
   "cell_type": "markdown",
   "id": "64e10557-c07e-41ba-b74f-5bf8652f8555",
   "metadata": {},
   "source": [
    "### 1.3.2 IMU DATA\n",
    "\n",
    "1. Interpolate\n",
    "2. Sample periodically"
   ]
  },
  {
   "cell_type": "code",
   "execution_count": 10,
   "id": "f33c0e3a-ee04-45b3-b39a-a95068a1578a",
   "metadata": {},
   "outputs": [
    {
     "data": {
      "text/plain": [
       "[<matplotlib.lines.Line2D at 0x7fca03f14670>]"
      ]
     },
     "execution_count": 10,
     "metadata": {},
     "output_type": "execute_result"
    },
    {
     "data": {
      "image/png": "[encoded data removed]",
      "text/plain": [
       "<Figure size 432x288 with 1 Axes>"
      ]
     },
     "metadata": {
      "needs_background": "light"
     },
     "output_type": "display_data"
    }
   ],
   "source": [
    "# Analyze IMU data\n",
    "\n",
    "# Acceleration in x\n",
    "plt.plot(imuTime, accelX)\n",
    "# Acceleration in y\n",
    "#plt.plot(imuTime, accelY)\n",
    "# Heading\n",
    "#plt.plot(imuTime, gyroZ)"
   ]
  },
  {
   "cell_type": "code",
   "execution_count": 11,
   "id": "3daf250d-c5b6-4a16-857b-e57494c7e35a",
   "metadata": {},
   "outputs": [
    {
     "data": {
      "text/plain": [
       "[<matplotlib.lines.Line2D at 0x7fc9e08ed880>]"
      ]
     },
     "execution_count": 11,
     "metadata": {},
     "output_type": "execute_result"
    },
    {
     "data": {
      "image/png": "[encoded data removed]",
      "text/plain": [
       "<Figure size 432x288 with 1 Axes>"
      ]
     },
     "metadata": {
      "needs_background": "light"
     },
     "output_type": "display_data"
    }
   ],
   "source": [
    "# Interpolate data so we get same periodic measurements\n",
    "f_x_acc = interp1d(imuTime, accelX, kind='cubic')\n",
    "f_y_acc = interp1d(imuTime, accelY, kind='cubic')\n",
    "f_heading = interp1d(imuTime, gyroZ, kind='cubic')\n",
    "\n",
    "# Create interpolated data\n",
    "# We use again t_gp_new to have same time measurements\n",
    "x_acc_inter = f_x_acc(ts)\n",
    "y_acc_inter = f_y_acc(ts)\n",
    "heading_inter = f_heading(ts)\n",
    "\n",
    "plt.plot(ts, x_acc_inter)\n",
    "plt.plot(imuTime, accelX)"
   ]
  },
  {
   "cell_type": "markdown",
   "id": "1a48de42-8344-4f83-a540-745c9dfe0c35",
   "metadata": {},
   "source": [
    "### 1.3.3 Merge Sensor Data"
   ]
  },
  {
   "cell_type": "markdown",
   "id": "ba930c5c-b8e7-4a67-bd57-a23c5d36b894",
   "metadata": {},
   "source": [
    "### ![alt text](CTRA.png \"Model Overview\")"
   ]
  },
  {
   "cell_type": "markdown",
   "id": "26d74237-cb15-4ef6-b8bd-012c5bb5944d",
   "metadata": {},
   "source": [
    "## 1.3.3 Ground Truth Data"
   ]
  },
  {
   "cell_type": "code",
   "execution_count": 12,
   "id": "0d8bbbc8-5e42-4dee-9bde-d30608cc6fbf",
   "metadata": {},
   "outputs": [
    {
     "data": {
      "text/plain": [
       "[<matplotlib.lines.Line2D at 0x7fca04480cd0>]"
      ]
     },
     "execution_count": 12,
     "metadata": {},
     "output_type": "execute_result"
    },
    {
     "data": {
      "image/png": "[encoded data removed]",
      "text/plain": [
       "<Figure size 432x288 with 1 Axes>"
      ]
     },
     "metadata": {
      "needs_background": "light"
     },
     "output_type": "display_data"
    }
   ],
   "source": [
    "# Get ground truth for all these sensor data\n",
    "\n",
    "# Useful ground truth we have\n",
    "# x, y, heading\n",
    "\n",
    "f_x_gt = interp1d(gtTime, x, kind='cubic')\n",
    "f_y_gt = interp1d(gtTime, y, kind='cubic')\n",
    "f_heading_gt = interp1d(gtTime, heading, kind='cubic')\n",
    "\n",
    "x_gt_inter = f_x_gt(ts)\n",
    "y_gt_inter = f_y_gt(ts)\n",
    "heading_gt = f_heading_gt(ts)\n",
    "\n",
    "plt.plot(gtTime, x)\n",
    "plt.plot(ts, x_gt_inter)"
   ]
  },
  {
   "cell_type": "code",
   "execution_count": 13,
   "id": "18db0104-434f-42b2-b9e8-d00df979829b",
   "metadata": {},
   "outputs": [],
   "source": [
    "# Merge all sensor data into one ndarray\n",
    "\n",
    "sensor_data = np.zeros((ts.size, 4))  # We will have four measurements at each time step [x, y, heading, acceleration]\n",
    "gt_data = np.zeros((ts.size,3))\n",
    "\n",
    "for i in range(sensor_data.shape[0]):\n",
    "    sensor_data[i][0] = x_gp_inter[i]\n",
    "    sensor_data[i][1] = y_gp_inter[i] \n",
    "    sensor_data[i][2] = heading_inter[i] \n",
    "    sensor_data[i][3] = x_acc_inter[i] \n",
    "    \n",
    "    gt_data[i][0] = x_gt_inter[i]\n",
    "    gt_data[i][1] = y_gt_inter[i]\n",
    "    gt_data[i][2] = heading_gt[i]\n",
    "    \n"
   ]
  },
  {
   "cell_type": "code",
   "execution_count": 14,
   "id": "276d381a-1ac2-41e5-88de-8d2dc0aca05c",
   "metadata": {},
   "outputs": [],
   "source": [
    "# Convert to torch \n",
    "data = torch.from_numpy(sensor_data)\n",
    "gt = torch.from_numpy(gt_data)\n",
    "time_stamps = torch.from_numpy(ts)"
   ]
  },
  {
   "cell_type": "code",
   "execution_count": 15,
   "id": "af91590b-5905-4201-a07a-b0f81a93cf73",
   "metadata": {},
   "outputs": [],
   "source": [
    "# Split torch for training and validation set\n",
    "d1, d2, d3, d4, d5 = torch.tensor_split(data, 5)\n",
    "g1, g2, g3, g4, g5 = torch.tensor_split(gt, 5)\n",
    "\n",
    "x_train = [d1, d2, d3]\n",
    "y_train = [g1, g2, g3]\n",
    "\n",
    "x_val = [d4]\n",
    "y_val = [g4]\n",
    "\n",
    "x_test = [d5]\n",
    "y_test = [g5]"
   ]
  },
  {
   "cell_type": "code",
   "execution_count": 16,
   "id": "287a0edb-a3a6-4349-a2cb-c352d2ee83c8",
   "metadata": {},
   "outputs": [
    {
     "data": {
      "text/plain": [
       "[<matplotlib.lines.Line2D at 0x7fca044ab820>,\n",
       " <matplotlib.lines.Line2D at 0x7fca044ab850>,\n",
       " <matplotlib.lines.Line2D at 0x7fca044ab970>,\n",
       " <matplotlib.lines.Line2D at 0x7fca044aba90>]"
      ]
     },
     "execution_count": 16,
     "metadata": {},
     "output_type": "execute_result"
    },
    {
     "data": {
      "image/png": "[encoded data removed]",
      "text/plain": [
       "<Figure size 432x288 with 1 Axes>"
      ]
     },
     "metadata": {
      "needs_background": "light"
     },
     "output_type": "display_data"
    }
   ],
   "source": [
    "plt.plot(ts, gt)\n",
    "plt.plot(ts, data)"
   ]
  },
  {
   "cell_type": "code",
   "execution_count": 17,
   "id": "3b5f0e54-7255-40d9-8515-a15847ef93ba",
   "metadata": {},
   "outputs": [
    {
     "data": {
      "text/plain": [
       "[<matplotlib.lines.Line2D at 0x7fc9d00bb460>]"
      ]
     },
     "execution_count": 17,
     "metadata": {},
     "output_type": "execute_result"
    },
    {
     "data": {
      "image/png": "[encoded data removed]",
      "text/plain": [
       "<Figure size 432x288 with 1 Axes>"
      ]
     },
     "metadata": {
      "needs_background": "light"
     },
     "output_type": "display_data"
    }
   ],
   "source": [
    "plt.plot(gtTime, x)\n",
    "plt.plot(gtTime, y)\n",
    "plt.plot(gtTime, heading)\n",
    "plt.plot(ts[0], 500, 'ro')\n",
    "plt.plot(ts[-1], 500, 'ro')\n",
    "plt.plot(gtTime[0], 400, 'bo')\n",
    "plt.plot(gtTime[-1], 400, 'bo')"
   ]
  },
  {
   "cell_type": "code",
   "execution_count": 18,
   "id": "186803a1-5504-4a98-a1a4-81071c628040",
   "metadata": {},
   "outputs": [
    {
     "name": "stdout",
     "output_type": "stream",
     "text": [
      "Running on the CPU\n"
     ]
    }
   ],
   "source": [
    "if torch.cuda.is_available():\n",
    "    cuda0 = torch.device(\"cuda:0\")  # you can continue going on here, like cuda:1 cuda:2....etc.\n",
    "    torch.set_default_tensor_type('torch.cuda.FloatTensor')\n",
    "else:\n",
    "   cuda0 = torch.device(\"cpu\")\n",
    "   print(\"Running on the CPU\")"
   ]
  },
  {
   "cell_type": "markdown",
   "id": "3da7e97d-ed47-4e7e-8a52-4f9ade5ea6d0",
   "metadata": {},
   "source": [
    "# 2. Model Preperation"
   ]
  },
  {
   "cell_type": "markdown",
   "id": "e4c647eb-cba2-4626-bc79-bf7ae92e3116",
   "metadata": {},
   "source": [
    "## 2.1 System Model Class & KalmanNet\n",
    "\n",
    "This class saves all the necessary information about the state space model and its parameters\n",
    "Note: Removed T & delta_t since I want to incorporate information about the data in the training/testing pipeline not in the System Model"
   ]
  },
  {
   "cell_type": "code",
   "execution_count": 19,
   "id": "6ff7aa2f-d8a8-4d73-b4a5-afcf0b458c4c",
   "metadata": {},
   "outputs": [],
   "source": [
    "class SystemModel:\n",
    "    \n",
    "    # f: state evolution function needs to be defined\n",
    "    # q: noise \n",
    "    # h: observation function/model\n",
    "    # r: noise\n",
    "    # T: length of trajectory (size of observation array/tensor)\n",
    "    # m: dimension of state vector\n",
    "    # n: dimension of observation vector\n",
    "    def __init__(self, m, n, f, q, h, r, T):\n",
    "\n",
    "        ####################\n",
    "        ### Motion Model ###\n",
    "        ####################\n",
    "        #self.modelname = modelname\n",
    "\n",
    "        self.f = f\n",
    "        self.m = m\n",
    "\n",
    "        self.q = q\n",
    "\n",
    "        #self.delta_t = delta_t\n",
    "        \n",
    "        self.Q = q * q * torch.eye(self.m)\n",
    "\n",
    "        \n",
    "        #########################\n",
    "        ### Observation Model ###\n",
    "        #########################\n",
    "        self.h = h\n",
    "        self.n = n\n",
    "\n",
    "        self.r = r\n",
    "        self.R = r * r * torch.eye(self.n)\n",
    "\n",
    "        #Assign T and T_test\n",
    "        self.T = T\n",
    "        #self.T_test = T_test\n",
    "\n",
    "    #####################\n",
    "    ### Init Sequence ###\n",
    "    #####################\n",
    "    def InitSequence(self, m1x_0, m2x_0):\n",
    "\n",
    "        self.m1x_0 = torch.squeeze(m1x_0).to(cuda0)\n",
    "        self.m2x_0 = torch.squeeze(m2x_0).to(cuda0)\n",
    "\n",
    "\n",
    "    #########################\n",
    "    ### Update Covariance ###\n",
    "    #########################\n",
    "    def UpdateCovariance_Gain(self, q, r):\n",
    "\n",
    "        self.q = q\n",
    "        self.Q = q * q * torch.eye(self.m)\n",
    "\n",
    "        self.r = r\n",
    "        self.R = r * r * torch.eye(self.n)\n",
    "\n",
    "    def UpdateCovariance_Matrix(self, Q, R):\n",
    "\n",
    "        self.Q = Q\n",
    "        self.R = R"
   ]
  },
  {
   "cell_type": "code",
   "execution_count": 20,
   "id": "f0f34a7e-99d0-4e9e-b40c-22cb5ea317bc",
   "metadata": {},
   "outputs": [],
   "source": [
    "nGRU = 2\n",
    "\n",
    "class KalmanNetNN(torch.nn.Module):\n",
    "\n",
    "    ###################\n",
    "    ### Constructor ###\n",
    "    ###################\n",
    "    def __init__(self):\n",
    "        super().__init__()\n",
    "        self.device = torch.device(\"cuda:0\" if torch.cuda.is_available() else \"cpu\")\n",
    "\n",
    "    ######################################\n",
    "    ### Initialize Kalman Gain Network ###\n",
    "    ######################################\n",
    "\n",
    "    def Build(self, ssModel, infoString = 'fullInfo'):\n",
    "\n",
    "        self.InitSystemDynamics(ssModel.f, ssModel.h, ssModel.m, ssModel.n, infoString = 'fullInfo')\n",
    "        self.InitSequence(ssModel.m1x_0, ssModel.T)\n",
    "\n",
    "        # Number of neurons in the 1st hidden layer\n",
    "        H1_KNet = (ssModel.m + ssModel.n) * (10) * 8\n",
    "\n",
    "        # Number of neurons in the 2nd hidden layer\n",
    "        H2_KNet = (ssModel.m * ssModel.n) * 1 * (4)\n",
    "\n",
    "        self.InitKGainNet(H1_KNet, H2_KNet)\n",
    "\n",
    "\n",
    "\n",
    "    def InitKGainNet(self, H1, H2):\n",
    "\n",
    "        # Input Dimensions (+1 for time input)\n",
    "        D_in = self.m + self.m + self.n  # F1,3,4\n",
    "\n",
    "        # Output Dimensions\n",
    "        D_out = self.m * self.n;  # Kalman Gain\n",
    "\n",
    "        ###################\n",
    "        ### Input Layer ###\n",
    "        ###################\n",
    "        # Linear Layer\n",
    "        self.KG_l1 = torch.nn.Linear(D_in, H1, bias=True)\n",
    "\n",
    "        # ReLU (Rectified Linear Unit) Activation Function\n",
    "        self.KG_relu1 = torch.nn.ReLU()\n",
    "\n",
    "        ###########\n",
    "        ### GRU ###\n",
    "        ###########\n",
    "        # Input Dimension\n",
    "        self.input_dim = H1\n",
    "        # Hidden Dimension\n",
    "        self.hidden_dim = ((self.n * self.n) + (self.m * self.m)) * 10 * 1\n",
    "        # Number of Layers\n",
    "        self.n_layers = nGRU\n",
    "        # Batch Size\n",
    "        self.batch_size = 1\n",
    "        # Input Sequence Length\n",
    "        self.seq_len_input = 1\n",
    "        # Hidden Sequence Length\n",
    "        self.seq_len_hidden = self.n_layers\n",
    "\n",
    "        # batch_first = False\n",
    "        # dropout = 0.1 ;\n",
    "\n",
    "        # Initialize a Tensor for GRU Input\n",
    "        # self.GRU_in = torch.empty(self.seq_len_input, self.batch_size, self.input_dim)\n",
    "\n",
    "        # Initialize a Tensor for Hidden State\n",
    "        self.hn = torch.randn(self.seq_len_hidden, self.batch_size, self.hidden_dim)\n",
    "\n",
    "        # Iniatialize GRU Layer\n",
    "        self.rnn_GRU = nn.GRU(self.input_dim, self.hidden_dim, self.n_layers)\n",
    "\n",
    "        ####################\n",
    "        ### Hidden Layer ###\n",
    "        ####################\n",
    "        self.KG_l2 = torch.nn.Linear(self.hidden_dim, H2, bias=True)\n",
    "\n",
    "        # ReLU (Rectified Linear Unit) Activation Function\n",
    "        self.KG_relu2 = torch.nn.ReLU()\n",
    "\n",
    "        ####################\n",
    "        ### Output Layer ###\n",
    "        ####################\n",
    "        self.KG_l3 = torch.nn.Linear(H2, D_out, bias=True)\n",
    "\n",
    "    ##################################\n",
    "    ### Initialize System Dynamics ###\n",
    "    ##################################\n",
    "    def InitSystemDynamics(self, f, h, m, n, infoString = 'fullInfo'):\n",
    "        \n",
    "        if(infoString == 'partialInfo'):\n",
    "            self.fString ='ModInacc'\n",
    "            self.hString ='ObsInacc'\n",
    "        else:\n",
    "            self.fString ='ModAcc'\n",
    "            self.hString ='ObsAcc'\n",
    "        \n",
    "        # Set State Evolution Function\n",
    "        self.f = f\n",
    "        self.m = m\n",
    "\n",
    "        # Set Observation Function\n",
    "        self.h = h\n",
    "        self.n = n\n",
    "\n",
    "    ###########################\n",
    "    ### Initialize Sequence ###\n",
    "    ###########################\n",
    "    def InitSequence(self, M1_0, T):\n",
    "\n",
    "        self.m1x_posterior = torch.squeeze(M1_0)\n",
    "        self.m1x_posterior_previous = 0 # for t=0\n",
    "\n",
    "        self.T = T\n",
    "        self.x_out = torch.empty(self.m, T)\n",
    "\n",
    "        self.state_process_posterior_0 = torch.squeeze(M1_0)\n",
    "        self.m1x_prior_previous = self.m1x_posterior\n",
    "\n",
    "        # KGain saving\n",
    "        self.i = 0\n",
    "        self.KGain_array = self.KG_array = torch.zeros((self.T,self.m,self.n))\n",
    "\n",
    "    ######################\n",
    "    ### Compute Priors ###\n",
    "    ######################\n",
    "    def step_prior(self):\n",
    "        # Predict the 1-st moment of x\n",
    "        self.m1x_prior = torch.squeeze(self.f(self.m1x_posterior))\n",
    "\n",
    "        # Predict the 1-st moment of y\n",
    "        self.m1y = torch.squeeze(self.h(self.m1x_prior))\n",
    "\n",
    "        # Update Jacobians\n",
    "        #self.JFt = get_Jacobian(self.m1x_posterior, self.fString)\n",
    "        #self.JHt = get_Jacobian(self.m1x_prior, self.hString)\n",
    "\n",
    "        self.state_process_prior_0 = torch.squeeze(self.f(self.state_process_posterior_0))\n",
    "        self.obs_process_0 = torch.squeeze(self.h(self.state_process_prior_0))\n",
    "\n",
    "    ##############################\n",
    "    ### Kalman Gain Estimation ###\n",
    "    ##############################\n",
    "    def step_KGain_est(self, y):\n",
    "        # Feature 1: yt - yt-1\n",
    "        try:\n",
    "            my_f1_0 = y - torch.squeeze(self.y_previous)\n",
    "        except:\n",
    "            my_f1_0 = y - torch.squeeze(self.obs_process_0) # when t=0 \n",
    "        # my_f1_reshape = torch.squeeze(my_f1_0)       \n",
    "        y_f1_norm = func.normalize(my_f1_0, p=2, dim=0, eps=1e-12, out=None)\n",
    "\n",
    "        # Feature 2: yt - y_t+1|t\n",
    "        # my_f2_0 = y - torch.squeeze(self.m1y)\n",
    "        # my_f2_reshape = torch.squeeze(my_f2_0)  \n",
    "        # y_f2_norm = func.normalize(my_f2_reshape, p=2, dim=0, eps=1e-12, out=None)\n",
    "\n",
    "        # Feature 3: x_t|t - x_t-1|t-1\n",
    "        m1x_f3_0 = self.m1x_posterior - self.m1x_posterior_previous\n",
    "        m1x_f3_reshape = torch.squeeze(m1x_f3_0)\n",
    "        m1x_f3_norm = func.normalize(m1x_f3_reshape, p=2, dim=0, eps=1e-12, out=None)\n",
    "\n",
    "        # Reshape and Normalize m1x Posterior\n",
    "        #m1x_post_0 = self.m1x_posterior - self.state_process_posterior_0 # Option 1\n",
    "\n",
    "        # Featture 4: x_t|t - x_t|t-1\n",
    "        m1x_f4_0 = self.m1x_posterior - self.m1x_prior_previous \n",
    "        #m1x_reshape = torch.squeeze(self.m1x_posterior) # Option 3\n",
    "        m1x_f4_reshape = torch.squeeze(m1x_f4_0)\n",
    "        m1x_f4_norm = func.normalize(m1x_f4_reshape, p=2, dim=0, eps=1e-12, out=None)\n",
    "\n",
    "        # Normalize y\n",
    "        #my_0 = y - torch.squeeze(self.obs_process_0) # Option 1\n",
    "        #my_0 = y - torch.squeeze(self.m1y) # Option 2\n",
    "        # my_0 = y\n",
    "        # y_norm = func.normalize(my_0, p=2, dim=0, eps=1e-12, out=None)\n",
    "        #y_norm = func.normalize(y, p=2, dim=0, eps=1e-12, out=None);\n",
    "\n",
    "        # Input for counting\n",
    "        count_norm = func.normalize(torch.tensor([self.i]).float(),dim=0, eps=1e-12,out=None)\n",
    "\n",
    "        # KGain Net Input\n",
    "        KGainNet_in = torch.cat([y_f1_norm,m1x_f3_norm,m1x_f4_norm], dim=0)\n",
    "\n",
    "        # Kalman Gain Network Step\n",
    "        KG = self.KGain_step(KGainNet_in)\n",
    "\n",
    "        # Reshape Kalman Gain to a Matrix\n",
    "        self.KGain = torch.reshape(KG, (self.m, self.n))\n",
    "\n",
    "    #######################\n",
    "    ### Kalman Net Step ###\n",
    "    #######################\n",
    "    def KNet_step(self, y):\n",
    "        # Compute Priors\n",
    "        self.step_prior()\n",
    "\n",
    "        # Compute Kalman Gain\n",
    "        self.step_KGain_est(y)\n",
    "\n",
    "        # Save KGain in array\n",
    "        self.KGain_array[self.i] = self.KGain\n",
    "        self.i += 1\n",
    "\n",
    "        # Innovation\n",
    "        # y_obs = torch.unsqueeze(y, 1)\n",
    "        dy = y - self.m1y\n",
    "\n",
    "        # Compute the 1-st posterior moment\n",
    "        INOV = torch.matmul(self.KGain, dy)\n",
    "        self.m1x_posterior_previous = self.m1x_posterior\n",
    "        self.m1x_posterior = self.m1x_prior + INOV\n",
    "\n",
    "        self.state_process_posterior_0 = self.state_process_prior_0\n",
    "        self.m1x_prior_previous = self.m1x_prior\n",
    "        self.y_previous = y\n",
    "\n",
    "        # return\n",
    "        return torch.squeeze(self.m1x_posterior)\n",
    "\n",
    "    ########################\n",
    "    ### Kalman Gain Step ###\n",
    "    ########################\n",
    "    def KGain_step(self, KGainNet_in):\n",
    "\n",
    "        ###################\n",
    "        ### Input Layer ###\n",
    "        ###################\n",
    "        L1_out = self.KG_l1(KGainNet_in)\n",
    "        La1_out = self.KG_relu1(L1_out)\n",
    "\n",
    "        ###########\n",
    "        ### GRU ###\n",
    "        ###########\n",
    "        GRU_in = torch.empty(self.seq_len_input, self.batch_size, self.input_dim)\n",
    "        GRU_in[0, 0, :] = La1_out\n",
    "        GRU_out, self.hn = self.rnn_GRU(GRU_in, self.hn)\n",
    "        GRU_out_reshape = torch.reshape(GRU_out, (1, self.hidden_dim))\n",
    "\n",
    "        ####################\n",
    "        ### Hidden Layer ###\n",
    "        ####################\n",
    "        L2_out = self.KG_l2(GRU_out_reshape)\n",
    "        La2_out = self.KG_relu2(L2_out)\n",
    "\n",
    "        ####################\n",
    "        ### Output Layer ###\n",
    "        ####################\n",
    "        L3_out = self.KG_l3(La2_out)\n",
    "        return L3_out\n",
    "\n",
    "    ###############\n",
    "    ### Forward ###\n",
    "    ###############\n",
    "    def forward(self, y):\n",
    "        yt = torch.squeeze(y)\n",
    "        '''\n",
    "        for t in range(0, self.T):\n",
    "            self.x_out[:, t] = self.KNet_step(y[:, t])\n",
    "        '''\n",
    "        self.x_out = self.KNet_step(yt)\n",
    "\n",
    "        return self.x_out\n",
    "\n",
    "    #########################\n",
    "    ### Init Hidden State ###\n",
    "    #########################\n",
    "    def init_hidden(self):\n",
    "        weight = next(self.parameters()).data\n",
    "        hidden = weight.new(self.n_layers, self.batch_size, self.hidden_dim).zero_()\n",
    "        self.hn = hidden.data"
   ]
  },
  {
   "cell_type": "markdown",
   "id": "9bd7fbe7-7ec2-4a42-854f-01d1b76ba448",
   "metadata": {},
   "source": [
    "## 2.2 Define the CTRA model"
   ]
  },
  {
   "cell_type": "markdown",
   "id": "cbdb8ae1-0367-4634-b710-ec222059708b",
   "metadata": {},
   "source": [
    "### ![alt text](delta_x.png \"Model Overview\")\n",
    "### ![alt text](delta_y.png \"Model Overview\")"
   ]
  },
  {
   "cell_type": "code",
   "execution_count": 21,
   "id": "84dc14d0-48ad-436f-92d0-c6ad91c31d8c",
   "metadata": {},
   "outputs": [],
   "source": [
    "def f_CTRA(state):\n",
    "    x = state[0]\n",
    "    y = state[1]\n",
    "    t = state[2]  # heading\n",
    "    v = state[3]  # speed\n",
    "    a = state[4]  # acceleration\n",
    "    w = state[5]  # yaw rate\n",
    "    T = delta_t\n",
    "    sin=torch.sin\n",
    "    cos=torch.cos\n",
    "    \n",
    "    add_state = torch.zeros_like(state)\n",
    "    \n",
    "    add_x = (1/w)*(v + a*T)*sin(t+w*T)  - (v/w)*cos(t) + (a/w**2)*cos(t+w*T) - (a/w**2)*sin(t)\n",
    "    add_y = (1/w)*(-v - a*T)*cos(t+w*T)  + (v/w)*cos(t) + (a/w**2)*sin(t+w*T) - (a/w**2)*sin(t)\n",
    "    \n",
    "    add_state = torch.tensor([add_x, add_y, w*T, a*T, 0, 0])\n",
    "    state = state.float()\n",
    "    \n",
    "    return state + add_state"
   ]
  },
  {
   "cell_type": "code",
   "execution_count": 22,
   "id": "88394fbb-bb3a-4afe-b843-fdbea4a9d2e8",
   "metadata": {},
   "outputs": [],
   "source": [
    "# We will have four measurements at each time step [x, y, heading, acceleration]\n",
    "def h_NCLT(state):\n",
    "    H = torch.tensor([[1, 0, 0, 0, 0, 0],\n",
    "                     [0, 1, 0, 0, 0, 0],\n",
    "                     [0, 0, 1, 0, 0, 0],\n",
    "                     [0, 0, 0, 0, 1, 0]]).float()\n",
    "    state = state.float()\n",
    "    return torch.matmul(H, state.T)"
   ]
  },
  {
   "cell_type": "code",
   "execution_count": 23,
   "id": "ff3e2c6f-ed74-4066-925b-92d73aa26751",
   "metadata": {},
   "outputs": [],
   "source": [
    "# m: dimension of state vector\n",
    "# n: dimension of observation vector\n",
    "# f: state evolution function needs to be defined\n",
    "# q: noise \n",
    "# h: observation function/model\n",
    "# r: noise"
   ]
  },
  {
   "cell_type": "code",
   "execution_count": 24,
   "id": "b8a2ad5b-92cb-4dbd-9a27-bcc0e2ac8ae0",
   "metadata": {},
   "outputs": [],
   "source": [
    "q = 0.001\n",
    "r = 0.111\n",
    "ctra_system = SystemModel(6 , 4 , f_CTRA, q, h_NCLT , r, x_train[0].shape[0])"
   ]
  },
  {
   "cell_type": "code",
   "execution_count": 25,
   "id": "c0ac7bce-9382-4493-ad00-79d4e20a164b",
   "metadata": {},
   "outputs": [],
   "source": [
    "# Initiliaze system\n",
    "\n",
    "# Initial state vector\n",
    "m1x_0 = torch.ones(6)\n",
    "\n",
    "#Initial covariance\n",
    "m2x_0 = torch.eye(6)*3000\n",
    "ctra_system.InitSequence(m1x_0, m2x_0)"
   ]
  },
  {
   "cell_type": "code",
   "execution_count": 26,
   "id": "da5d8195-a26c-49d3-8128-2c7fd0f0b722",
   "metadata": {},
   "outputs": [],
   "source": [
    "# Define our KalmanNet with the given state space model and trajectory length\n",
    "KNet_model = KalmanNetNN()\n",
    "KNet_model.Build(ctra_system)"
   ]
  },
  {
   "cell_type": "code",
   "execution_count": 27,
   "id": "fc0a368d-e728-4ae0-8fae-e935c502466f",
   "metadata": {},
   "outputs": [],
   "source": [
    "# Set training parameters\n",
    "n_Epochs, n_Batch, learningRate, weightDecay = 200, 10 , 1e-3, 1e-4\n",
    "\n",
    "\n",
    "N_Epochs = n_Epochs  # Number of Training Epochs\n",
    "N_B = n_Batch # Number of Samples in Batch\n",
    "learningRate = learningRate # Learning Rate\n",
    "weightDecay = weightDecay # L2 Weight Regularization - Weight Decay\n",
    "\n",
    "# MSE LOSS Function\n",
    "loss_fn = nn.MSELoss(reduction='mean')\n",
    "\n",
    "# Use the optim package to define an Optimizer that will update the weights of\n",
    "# the model for us. Here we will use Adam; the optim package contains many other\n",
    "# optimization algoriths. The first argument to the Adam constructor tells the\n",
    "# optimizer which Tensors it should update.\n",
    "optimizer = torch.optim.Adam(KNet_model.parameters(), lr=learningRate, weight_decay=weightDecay)"
   ]
  },
  {
   "cell_type": "code",
   "execution_count": 28,
   "id": "34ad2307-c8d0-49f7-a3a4-24fc844a355b",
   "metadata": {},
   "outputs": [
    {
     "data": {
      "text/plain": [
       "3"
      ]
     },
     "execution_count": 28,
     "metadata": {},
     "output_type": "execute_result"
    }
   ],
   "source": [
    "y = x_val[0]\n",
    "y_val[0].T.shape\n",
    "len(x_train)"
   ]
  },
  {
   "cell_type": "code",
   "execution_count": null,
   "id": "afc08e1d-38af-43db-9810-71897697c041",
   "metadata": {},
   "outputs": [
    {
     "name": "stderr",
     "output_type": "stream",
     "text": [
      "/var/folders/j_/gxx7k8bn0777lz4mkj9bnjvm0000gn/T/ipykernel_41139/995604436.py:8: UserWarning: The use of `x.T` on tensors of dimension other than 2 to reverse their shape is deprecated and it will throw an error in a future release. Consider `x.mT` to transpose batches of matricesor `x.permute(*torch.arange(x.ndim - 1, -1, -1))` to reverse the dimensions of a tensor. (Triggered internally at  /Users/distiller/project/pytorch/aten/src/ATen/native/TensorShape.cpp:2318.)\n",
      "  return torch.matmul(H, state.T)\n"
     ]
    }
   ],
   "source": [
    "# Training function\n",
    "#def NNTrain(self, n_Examples, train_input, train_target, n_CV, cv_input, cv_target):\n",
    "\n",
    "# NUmber of samples for training and validation\n",
    "N_E = len(x_train)\n",
    "N_CV = len(x_val)\n",
    "\n",
    "# MSE for validation (linear and db)\n",
    "MSE_cv_linear_batch = torch.empty([N_CV])\n",
    "MSE_cv_linear_epoch = torch.empty([N_Epochs])\n",
    "MSE_cv_dB_epoch = torch.empty([N_Epochs])\n",
    "\n",
    "# MSE for training\n",
    "MSE_train_linear_batch = torch.empty([N_B])\n",
    "MSE_train_linear_epoch = torch.empty([N_Epochs])\n",
    "MSE_train_dB_epoch = torch.empty([N_Epochs])\n",
    "\n",
    "##############\n",
    "### Epochs ###\n",
    "##############\n",
    "\n",
    "MSE_cv_dB_opt = 1000\n",
    "MSE_cv_idx_opt = 0\n",
    "\n",
    "for ti in range(0, N_Epochs):\n",
    "\n",
    "    #################################\n",
    "    ### Validation Sequence Batch ###\n",
    "    #################################\n",
    "\n",
    "    # Cross Validation Mode\n",
    "    KNet_model.eval()\n",
    "\n",
    "    for j in range(0, N_CV):\n",
    "        #y_cv = cv_input[j, :, :]\n",
    "        y_cv = x_val[j]\n",
    "        KNet_model.InitSequence(ctra_system.m1x_0, ctra_system.T)\n",
    "\n",
    "        x_out_cv = torch.empty(KNet_model.m, KNet_model.T)\n",
    "        for t in range(0, KNet_model.T):\n",
    "            x_out_cv[:, t] = KNet_model(y_cv[t].float())\n",
    "\n",
    "        # Compute Training Loss\n",
    "        H_gt = torch.tensor([[1, 0, 0, 0, 0, 0],\n",
    "                             [0, 1, 0, 0, 0, 0],\n",
    "                             [0, 0, 0, 1, 0, 0]]).float()\n",
    "        xout = torch.matmul(H_gt, x_out_cv)\n",
    "        MSE_cv_linear_batch[j] = loss_fn(xout, y_val[j].T).item()\n",
    "\n",
    "    # Average\n",
    "    MSE_cv_linear_epoch[ti] = torch.mean(MSE_cv_linear_batch)\n",
    "    MSE_cv_dB_epoch[ti] = 10 * torch.log10(MSE_cv_linear_epoch[ti])\n",
    "\n",
    "    if (MSE_cv_dB_epoch[ti] < MSE_cv_dB_opt):\n",
    "        MSE_cv_dB_opt = MSE_cv_dB_epoch[ti]\n",
    "        MSE_cv_idx_opt = ti\n",
    "        torch.save(KNet_model, 'KNet_model.pt')\n",
    "\n",
    "    ###############################\n",
    "    ### Training Sequence Batch ###\n",
    "    ###############################\n",
    "\n",
    "    # Training Mode\n",
    "    KNet_model.train()\n",
    "\n",
    "    # Init Hidden State\n",
    "    KNet_model.init_hidden()\n",
    "\n",
    "    Batch_Optimizing_LOSS_sum = 0\n",
    "\n",
    "    for j in range(0, N_B):\n",
    "        n_e = random.randint(0, N_E - 1)\n",
    "\n",
    "        y_training = x_train[n_e]\n",
    "        KNet_model.InitSequence(ctra_system.m1x_0, ctra_system.T)\n",
    "\n",
    "        x_out_training = torch.empty(KNet_model.m, KNet_model.T)\n",
    "        for t in range(0, KNet_model.T):\n",
    "            x_out_training[:, t] = KNet_model(y_training[t].float())\n",
    "\n",
    "        # Compute Training Loss\n",
    "        xoutt = torch.matmul(H_gt, x_out_training)\n",
    "        LOSS = loss_fn(xoutt, y_train[n_e].T)\n",
    "        MSE_train_linear_batch[j] = LOSS.item()\n",
    "\n",
    "        Batch_Optimizing_LOSS_sum = Batch_Optimizing_LOSS_sum + LOSS\n",
    "\n",
    "    # Average\n",
    "    MSE_train_linear_epoch[ti] = torch.mean(MSE_train_linear_batch)\n",
    "    MSE_train_dB_epoch[ti] = 10 * torch.log10(MSE_train_linear_epoch[ti])\n",
    "\n",
    "    ##################\n",
    "    ### Optimizing ###\n",
    "    ##################\n",
    "\n",
    "    # Before the backward pass, use the optimizer object to zero all of the\n",
    "    # gradients for the variables it will update (which are the learnable\n",
    "    # weights of the model). This is because by default, gradients are\n",
    "    # accumulated in buffers( i.e, not overwritten) whenever .backward()\n",
    "    # is called. Checkout docs of torch.autograd.backward for more details.\n",
    "    optimizer.zero_grad()\n",
    "\n",
    "    # Backward pass: compute gradient of the loss with respect to model\n",
    "    # parameters\n",
    "    Batch_Optimizing_LOSS_mean = Batch_Optimizing_LOSS_sum / N_B\n",
    "    Batch_Optimizing_LOSS_mean.backward()\n",
    "\n",
    "    # Calling the step function on an Optimizer makes an update to its\n",
    "    # parameters\n",
    "    optimizer.step()\n",
    "\n",
    "    ########################\n",
    "    ### Training Summary ###\n",
    "    ########################\n",
    "    print(ti, \"MSE Training :\", MSE_train_dB_epoch[ti], \"[dB]\", \"MSE Validation :\", MSE_cv_dB_epoch[ti],\n",
    "          \"[dB]\")\n",
    "\n",
    "    if (ti > 1):\n",
    "        d_train = MSE_train_dB_epoch[ti] - MSE_train_dB_epoch[ti - 1]\n",
    "        d_cv = MSE_cv_dB_epoch[ti] - MSE_cv_dB_epoch[ti - 1]\n",
    "        print(\"diff MSE Training :\", d_train, \"[dB]\", \"diff MSE Validation :\", d_cv, \"[dB]\")\n",
    "\n",
    "    print(\"Optimal idx:\", MSE_cv_idx_opt, \"Optimal :\", MSE_cv_dB_opt, \"[dB]\")"
   ]
  },
  {
   "cell_type": "code",
   "execution_count": null,
   "id": "69f9e47c-5cf1-4f62-b2ef-c1dd334fd51e",
   "metadata": {},
   "outputs": [],
   "source": []
  }
 ],
 "metadata": {
  "kernelspec": {
   "display_name": "Python 3 (ipykernel)",
   "language": "python",
   "name": "python3"
  },
  "language_info": {
   "codemirror_mode": {
    "name": "ipython",
    "version": 3
   },
   "file_extension": ".py",
   "mimetype": "text/x-python",
   "name": "python",
   "nbconvert_exporter": "python",
   "pygments_lexer": "ipython3",
   "version": "3.8.12"
  }
 },
 "nbformat": 4,
 "nbformat_minor": 5
}
